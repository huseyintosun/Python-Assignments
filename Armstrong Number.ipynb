{
 "cells": [
  {
   "cell_type": "code",
   "execution_count": 19,
   "metadata": {},
   "outputs": [
    {
     "name": "stdin",
     "output_type": "stream",
     "text": [
      "Please enter a positive integer number :  371\n"
     ]
    },
    {
     "name": "stdout",
     "output_type": "stream",
     "text": [
      "371 is an Armstrong number\n"
     ]
    }
   ],
   "source": [
    "num = input(\"Please enter a positive integer number : \")\n",
    "if num.isdigit() :\n",
    "    num.split()\n",
    "    b=0\n",
    "    for i in range(len(num)) :\n",
    "        b+=int(num[i])**len(num)\n",
    "    if b==int(num):\n",
    "        print(num, \"is an Armstrong number\")\n",
    "    else:\n",
    "        print(num, \"is not an Armstrong number\")\n",
    "else:\n",
    "    print(\"It is an invalid entry. Don't use non-numeric, float, or negative values!\")"
   ]
  },
  {
   "cell_type": "code",
   "execution_count": 5,
   "metadata": {},
   "outputs": [
    {
     "name": "stdin",
     "output_type": "stream",
     "text": [
      "Please enter a positive integer number :  0\n"
     ]
    },
    {
     "name": "stdout",
     "output_type": "stream",
     "text": [
      "0 is an Armstrong number\n"
     ]
    }
   ],
   "source": [
    "while True:\n",
    "    num = input(\"Please enter a positive integer number : \")\n",
    "    if num.isdigit() :\n",
    "        num.split()\n",
    "        b=0\n",
    "        for i in range(len(num)) :\n",
    "            b+=int(num[i])**len(num)\n",
    "        if b==int(num):\n",
    "            print(num, \"is an Armstrong number\")\n",
    "        else:\n",
    "            print(num, \"is not an Armstrong number\")\n",
    "        break\n",
    "    else:\n",
    "        print(\"It is an invalid entry. Don't use non-numeric, float, or negative values!\")"
   ]
  },
  {
   "cell_type": "code",
   "execution_count": 19,
   "metadata": {},
   "outputs": [
    {
     "name": "stdin",
     "output_type": "stream",
     "text": [
      "sayı giriniz: asd\n"
     ]
    },
    {
     "name": "stdout",
     "output_type": "stream",
     "text": [
      "lütfen adamakıllı girin\n"
     ]
    },
    {
     "name": "stdin",
     "output_type": "stream",
     "text": [
      "sayı giriniz: 3.14\n"
     ]
    },
    {
     "name": "stdout",
     "output_type": "stream",
     "text": [
      "lütfen adamakıllı girin\n"
     ]
    },
    {
     "name": "stdin",
     "output_type": "stream",
     "text": [
      "sayı giriniz: -5\n"
     ]
    },
    {
     "name": "stdout",
     "output_type": "stream",
     "text": [
      "lütfen adamakıllı girin\n"
     ]
    },
    {
     "name": "stdin",
     "output_type": "stream",
     "text": [
      "sayı giriniz: 371\n"
     ]
    },
    {
     "name": "stdout",
     "output_type": "stream",
     "text": [
      "371 armstrong numara\n"
     ]
    }
   ],
   "source": [
    "while True:\n",
    "    numara = input(\"sayı giriniz:\")\n",
    "    numara.split()\n",
    "    a = 0\n",
    "    if numara.isdigit():\n",
    "        for i in range(len(numara)):    \n",
    "            a+=int(numara[i])**len(numara)\n",
    "        if int(numara)==a:\n",
    "            print(numara,\"armstrong numara\")\n",
    "        else:\n",
    "            print(numara,\"armstrong numara değil\")\n",
    "        break\n",
    "    else:\n",
    "        print(\"lütfen adamakıllı girin\")\n",
    "    "
   ]
  },
  {
   "cell_type": "code",
   "execution_count": null,
   "metadata": {},
   "outputs": [],
   "source": []
  }
 ],
 "metadata": {
  "kernelspec": {
   "display_name": "Python 3",
   "language": "python",
   "name": "python3"
  },
  "language_info": {
   "codemirror_mode": {
    "name": "ipython",
    "version": 3
   },
   "file_extension": ".py",
   "mimetype": "text/x-python",
   "name": "python",
   "nbconvert_exporter": "python",
   "pygments_lexer": "ipython3",
   "version": "3.8.5"
  }
 },
 "nbformat": 4,
 "nbformat_minor": 4
}
