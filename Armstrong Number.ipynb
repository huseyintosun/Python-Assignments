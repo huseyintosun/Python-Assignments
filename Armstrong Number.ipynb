{
 "cells": [
  {
   "cell_type": "code",
   "execution_count": 50,
   "metadata": {},
   "outputs": [
    {
     "name": "stdin",
     "output_type": "stream",
     "text": [
      "Please enter a positive integer number :  153,87\n"
     ]
    },
    {
     "name": "stdout",
     "output_type": "stream",
     "text": [
      "It is an invalid entry. Don't use non-numeric, float, or negative values!\n"
     ]
    }
   ],
   "source": [
    "num = input(\"Please enter a positive integer number : \")\n",
    "if num.isdigit() :\n",
    "    a = num.split()\n",
    "    b=0\n",
    "    for i in range(len(a[0])) :\n",
    "        b+=int(a[0][i])**len(a[0])\n",
    "    if b==int(num):\n",
    "        print(num, \"is an Armstrong number\")\n",
    "    else:\n",
    "        print(num, \"is not an Armstrong number\")\n",
    "else:\n",
    "    print(\"It is an invalid entry. Don't use non-numeric, float, or negative values!\")"
   ]
  },
  {
   "cell_type": "code",
   "execution_count": null,
   "metadata": {},
   "outputs": [],
   "source": []
  }
 ],
 "metadata": {
  "kernelspec": {
   "display_name": "Python 3",
   "language": "python",
   "name": "python3"
  },
  "language_info": {
   "codemirror_mode": {
    "name": "ipython",
    "version": 3
   },
   "file_extension": ".py",
   "mimetype": "text/x-python",
   "name": "python",
   "nbconvert_exporter": "python",
   "pygments_lexer": "ipython3",
   "version": "3.8.5"
  }
 },
 "nbformat": 4,
 "nbformat_minor": 4
}
