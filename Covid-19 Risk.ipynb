{
 "cells": [
  {
   "cell_type": "code",
   "execution_count": 45,
   "metadata": {},
   "outputs": [
    {
     "name": "stdin",
     "output_type": "stream",
     "text": [
      "Are you a cigarette addict older than 75 years old? (yes or no) :  yes\n",
      "Do you have a severe chronic disease? (yes or no) :  no\n",
      "Is your immune system too weak? (yes or no) :  yes\n"
     ]
    },
    {
     "name": "stdout",
     "output_type": "stream",
     "text": [
      "age = True \n",
      "chorinic = False \n",
      "immune = True \n",
      "Risk = You are in risky group\n"
     ]
    }
   ],
   "source": [
    "age = input(\"Are you a cigarette addict older than 75 years old? (yes or no) : \")\n",
    "if age.title() == \"Yes\" :\n",
    "    age = True\n",
    "elif age.title() == \"No\" :\n",
    "    age = False\n",
    "else :\n",
    "    print(\"Invalid answer!\")\n",
    "        \n",
    "chorinic = input(\"Do you have a severe chronic disease? (yes or no) : \")\n",
    "if chorinic.title() == \"Yes\" :\n",
    "    chorinic = True\n",
    "elif chorinic.title() == \"No\" :\n",
    "    chorinic = False\n",
    "else :\n",
    "    print(\"Invalid answer!\")\n",
    "    \n",
    "immune = input(\"Is your immune system too weak? (yes or no) : \")\n",
    "if immune.title() == \"Yes\":\n",
    "    immune = True\n",
    "elif immune.title() == \"No\" :\n",
    "    immune = False\n",
    "else :\n",
    "    print(\"Invalid answer!\")        \n",
    "    \n",
    "if age :\n",
    "    risk = age and (chorinic or immune) # if only age is True, there is not a risk of death\n",
    "else :\n",
    "    risk = age or chorinic or immune \n",
    "    \n",
    "if risk :\n",
    "    print(\"age =\",age,\"\\nchorinic =\",chorinic,\"\\nimmune =\",immune,\"\\nRisk = You are in risky group\")\n",
    "else :\n",
    "    print(\"age =\",age,\"\\nchorinic =\",chorinic,\"\\nimmune =\",immune,\"\\nRisk =You are not in risky group\")"
   ]
  },
  {
   "cell_type": "code",
   "execution_count": null,
   "metadata": {},
   "outputs": [],
   "source": []
  }
 ],
 "metadata": {
  "kernelspec": {
   "display_name": "Python 3",
   "language": "python",
   "name": "python3"
  },
  "language_info": {
   "codemirror_mode": {
    "name": "ipython",
    "version": 3
   },
   "file_extension": ".py",
   "mimetype": "text/x-python",
   "name": "python",
   "nbconvert_exporter": "python",
   "pygments_lexer": "ipython3",
   "version": "3.8.5"
  }
 },
 "nbformat": 4,
 "nbformat_minor": 4
}
