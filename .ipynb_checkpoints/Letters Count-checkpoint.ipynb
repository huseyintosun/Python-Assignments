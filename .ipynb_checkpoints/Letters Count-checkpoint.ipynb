{
 "cells": [
  {
   "cell_type": "raw",
   "metadata": {},
   "source": [
    "Task:\n",
    "\n",
    "Count the number of each letter in a sentence.\n",
    "The department you work for undertook a project construction that makes word / text analysis. You are asked to calculate the number of letters or any chars in the sentences entered under this project.\n",
    "Write a Python program that;\n",
    "takes a sentence from the user,\n",
    "counts the number of each letter of the sentence,\n",
    "collects the letters/chars as a key and the counted numbers as a value in a dictionary.\n",
    "\n",
    "Examples\n",
    "Sample inputs\t                 Outputs\n",
    "hippo runs to us!\t         {'s': 2, 'r': 1, 't': 1, 'h': 1, 'n': 1, \n",
    "                             'i': 1, 'u': 2, 'o': 2, 'p': 2, ' ': 3, '!': 1}\n",
    "\n",
    "Note that; this question is famous on the web, so that do it yourself to get more benefits from it. By the way, Do not use try - except block."
   ]
  },
  {
   "cell_type": "code",
   "execution_count": 36,
   "metadata": {},
   "outputs": [
    {
     "name": "stdin",
     "output_type": "stream",
     "text": [
      "Please enter a sentence :  what a fantastic safe!\n"
     ]
    },
    {
     "name": "stdout",
     "output_type": "stream",
     "text": [
      "{'w': 1, 'h': 1, 'a': 5, 't': 3, ' ': 3, 'f': 2, 'n': 1, 's': 2, 'i': 1, 'c': 1, 'e': 1, '!': 1}\n"
     ]
    }
   ],
   "source": [
    "sentence=input(\"Please enter a sentence : \")\n",
    "dict={}\n",
    "list=[]\n",
    "for i in sentence:\n",
    "    list.append(i)\n",
    "    dict[i]=list.count(i)\n",
    "print(dict)"
   ]
  },
  {
   "cell_type": "code",
   "execution_count": null,
   "metadata": {},
   "outputs": [],
   "source": []
  }
 ],
 "metadata": {
  "kernelspec": {
   "display_name": "Python 3",
   "language": "python",
   "name": "python3"
  },
  "language_info": {
   "codemirror_mode": {
    "name": "ipython",
    "version": 3
   },
   "file_extension": ".py",
   "mimetype": "text/x-python",
   "name": "python",
   "nbconvert_exporter": "python",
   "pygments_lexer": "ipython3",
   "version": "3.8.5"
  }
 },
 "nbformat": 4,
 "nbformat_minor": 4
}
