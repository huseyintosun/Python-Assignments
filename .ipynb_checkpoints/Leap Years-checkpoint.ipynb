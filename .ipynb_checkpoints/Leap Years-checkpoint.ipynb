{
 "cells": [
  {
   "cell_type": "markdown",
   "metadata": {},
   "source": [
    "Task:\n",
    "\n",
    "Find out if a given year is a \"leap\" year.\n",
    "\n",
    "In the Gregorian calendar, three criteria must be taken into account to identify leap years:\n",
    "\n",
    "The year must be evenly divisible by 4;\n",
    "\n",
    "If the year can also be evenly divided by 100, it is not a leap year; unless...\n",
    "\n",
    "The year is also evenly divisible by 400. Then it is a leap year.\n",
    "\n",
    "According to these rules, the years 2000 and 2400 are leap years, while 1800, 1900, 2100, 2200, 2300, and 2500 are not the leap years.\n",
    "\n",
    "Write a Python program that prints such as \"2020 is a leap year\" if the given year by the user is a leap year, prints such as \"2019 is not a leap year\" otherwise.\n",
    "\n",
    "Note that; this question is famous on the web, so that do it yourself to get more benefits from it."
   ]
  },
  {
   "cell_type": "code",
   "execution_count": 13,
   "metadata": {},
   "outputs": [],
   "source": [
    "def leap_year():\n",
    "    year=int(input(\"Please enter a year : \"))\n",
    "    if year%400==0:\n",
    "        return \"{} is a leap year\".format(year)\n",
    "    elif year%100==0:\n",
    "        return \"{} is not a leap year\".format(year)\n",
    "    elif year%4==0:\n",
    "        return \"{} is a leap year\".format(year)\n",
    "    else:\n",
    "        return \"{} is not a leap year\".format(year)"
   ]
  },
  {
   "cell_type": "code",
   "execution_count": 17,
   "metadata": {},
   "outputs": [
    {
     "name": "stdin",
     "output_type": "stream",
     "text": [
      "Please enter a year :  2020\n"
     ]
    },
    {
     "data": {
      "text/plain": [
       "'2020 is a leap year'"
      ]
     },
     "execution_count": 17,
     "metadata": {},
     "output_type": "execute_result"
    }
   ],
   "source": [
    "leap_year()"
   ]
  },
  {
   "cell_type": "code",
   "execution_count": null,
   "metadata": {},
   "outputs": [],
   "source": []
  }
 ],
 "metadata": {
  "kernelspec": {
   "display_name": "Python 3",
   "language": "python",
   "name": "python3"
  },
  "language_info": {
   "codemirror_mode": {
    "name": "ipython",
    "version": 3
   },
   "file_extension": ".py",
   "mimetype": "text/x-python",
   "name": "python",
   "nbconvert_exporter": "python",
   "pygments_lexer": "ipython3",
   "version": "3.8.5"
  }
 },
 "nbformat": 4,
 "nbformat_minor": 4
}
