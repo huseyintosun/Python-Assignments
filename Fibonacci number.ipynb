{
 "cells": [
  {
   "cell_type": "code",
   "execution_count": 35,
   "metadata": {},
   "outputs": [
    {
     "name": "stdout",
     "output_type": "stream",
     "text": [
      "[1, 1, 2, 3, 5, 8, 13, 21, 34, 55]\n"
     ]
    }
   ],
   "source": [
    "number=1\n",
    "a=0\n",
    "list=[number]\n",
    "for i in range(number,56):\n",
    "    if i==number:\n",
    "        list.append(number)\n",
    "        a+=1\n",
    "        number+=list[a-1]\n",
    "print(list)"
   ]
  },
  {
   "cell_type": "code",
   "execution_count": 38,
   "metadata": {},
   "outputs": [],
   "source": [
    "def fibonacci_number():\n",
    "    start_number=int(input(\"Please enter start number : \"))\n",
    "    finish_number=int(input(\"Please enter finish number : \"))\n",
    "    a=0\n",
    "    list=[start_number]\n",
    "    for i in range(start_number,finish_number+1):\n",
    "        if i==start_number:\n",
    "            list.append(start_number)\n",
    "            a+=1\n",
    "            start_number+=list[a-1]\n",
    "    print(list)"
   ]
  },
  {
   "cell_type": "code",
   "execution_count": 40,
   "metadata": {},
   "outputs": [
    {
     "name": "stdin",
     "output_type": "stream",
     "text": [
      "Please enter start number :  5\n",
      "Please enter finish number :  65\n"
     ]
    },
    {
     "name": "stdout",
     "output_type": "stream",
     "text": [
      "[5, 5, 10, 15, 25, 40, 65]\n"
     ]
    }
   ],
   "source": [
    "fibonacci_number()"
   ]
  },
  {
   "cell_type": "code",
   "execution_count": null,
   "metadata": {},
   "outputs": [],
   "source": []
  }
 ],
 "metadata": {
  "kernelspec": {
   "display_name": "Python 3",
   "language": "python",
   "name": "python3"
  },
  "language_info": {
   "codemirror_mode": {
    "name": "ipython",
    "version": 3
   },
   "file_extension": ".py",
   "mimetype": "text/x-python",
   "name": "python",
   "nbconvert_exporter": "python",
   "pygments_lexer": "ipython3",
   "version": "3.8.5"
  }
 },
 "nbformat": 4,
 "nbformat_minor": 4
}
