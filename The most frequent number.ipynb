{
 "cells": [
  {
   "cell_type": "code",
   "execution_count": 103,
   "metadata": {},
   "outputs": [
    {
     "name": "stdout",
     "output_type": "stream",
     "text": [
      "Counter({3: 4, 1: 1, 7: 1, 4: 1, 0: 1, 6: 1})\n",
      "[(3, 4), (1, 1), (7, 1), (4, 1), (0, 1), (6, 1)]\n",
      "the most frequent number is 3 and it was 4 times repeated\n"
     ]
    }
   ],
   "source": [
    "import collections\n",
    "numbers = [1, 3, 7, 4, 3, 0, 3, 6, 3] #\tthe most frequent number is 3 and it was 4 times repeated\n",
    "counter=collections.Counter(numbers)\n",
    "a = counter.most_common()\n",
    "print(counter)\n",
    "print(a)\n",
    "print(\"the most frequent number is {} and it was {} times repeated\".format(a[0][0], a[0][1]))"
   ]
  },
  {
   "cell_type": "code",
   "execution_count": 108,
   "metadata": {},
   "outputs": [
    {
     "name": "stdout",
     "output_type": "stream",
     "text": [
      "0 harfinden = => 1 tane\n",
      "1 harfinden = => 1 tane\n",
      "3 harfinden = => 4 tane\n",
      "4 harfinden = => 1 tane\n",
      "6 harfinden = => 1 tane\n",
      "7 harfinden = => 1 tane\n"
     ]
    }
   ],
   "source": [
    "numbers = [1, 3, 7, 4, 3, 0, 3, 6, 3] #\tthe most frequent number is 3 and it was 4 times repeated\n",
    "ortak = set(numbers)\n",
    "for i in ortak:\n",
    "    print(\"%s harfinden = => %s tane\" %(i, numbers.count(i)))"
   ]
  },
  {
   "cell_type": "code",
   "execution_count": 124,
   "metadata": {},
   "outputs": [
    {
     "name": "stdout",
     "output_type": "stream",
     "text": [
      "the most frequent number is 3 and it was 4 times repeated\n"
     ]
    }
   ],
   "source": [
    "numbers = [1, 3, 7, 4, 3, 0, 3, 6, 3] #\tthe most frequent number is 3 and it was 4 times repeated\n",
    "a = max(numbers, key = numbers.count)\n",
    "b = numbers.count(a)\n",
    "print(\"the most frequent number is {} and it was {} times repeated\".format(a, b))"
   ]
  },
  {
   "cell_type": "code",
   "execution_count": null,
   "metadata": {},
   "outputs": [],
   "source": []
  }
 ],
 "metadata": {
  "kernelspec": {
   "display_name": "Python 3",
   "language": "python",
   "name": "python3"
  },
  "language_info": {
   "codemirror_mode": {
    "name": "ipython",
    "version": 3
   },
   "file_extension": ".py",
   "mimetype": "text/x-python",
   "name": "python",
   "nbconvert_exporter": "python",
   "pygments_lexer": "ipython3",
   "version": "3.8.5"
  }
 },
 "nbformat": 4,
 "nbformat_minor": 4
}
